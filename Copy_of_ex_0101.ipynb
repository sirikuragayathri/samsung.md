{
  "cells": [
    {
      "cell_type": "markdown",
      "metadata": {
        "id": "view-in-github",
        "colab_type": "text"
      },
      "source": [
        "<a href=\"https://colab.research.google.com/github/sirikuragayathri/samsung.md/blob/main/Copy_of_ex_0101.ipynb\" target=\"_parent\"><img src=\"https://colab.research.google.com/assets/colab-badge.svg\" alt=\"Open In Colab\"/></a>"
      ]
    },
    {
      "cell_type": "markdown",
      "metadata": {
        "id": "vYmoBzFaaUvS"
      },
      "source": [
        "## Coding Exercise #0101"
      ]
    },
    {
      "cell_type": "markdown",
      "metadata": {
        "id": "u-PpcK6uaUvV"
      },
      "source": [
        "### 1. Markdown examples:"
      ]
    },
    {
      "cell_type": "markdown",
      "metadata": {
        "id": "E9EetCbxaUvV"
      },
      "source": [
        "# Title 1\n",
        "## Title 2\n",
        "### Title 3\n",
        "#### Title 4"
      ]
    },
    {
      "cell_type": "markdown",
      "metadata": {
        "id": "632uuY0TaUvV"
      },
      "source": [
        "[Go to Google](https://www.google.com)"
      ]
    },
    {
      "cell_type": "markdown",
      "metadata": {
        "id": "HE2Tci9GaUvV"
      },
      "source": [
        "*Italic font*\n",
        "\n",
        "**Bold font**"
      ]
    },
    {
      "cell_type": "markdown",
      "metadata": {
        "id": "4_vCBw10aUvV"
      },
      "source": [
        "An expression in LaTex: $Area = \\pi r^2$  <br>\n",
        "Another expression in LaTex: $P(x) = \\int_{-\\infty}^x f(x) dx$"
      ]
    },
    {
      "cell_type": "markdown",
      "metadata": {
        "id": "ZY8yZdBGaUvW"
      },
      "source": [
        "The following is a list of items:\n",
        "- An item.\n",
        "- An item.\n",
        "- An item."
      ]
    },
    {
      "cell_type": "markdown",
      "metadata": {
        "id": "6fsgDLG8aUvW"
      },
      "source": [
        "> This is a quote.\n",
        "---\n",
        "> Another quote after horizontal line."
      ]
    },
    {
      "cell_type": "markdown",
      "metadata": {
        "id": "NCBgcSTDaUvW"
      },
      "source": [
        "### 2. Python quick look:"
      ]
    },
    {
      "cell_type": "code",
      "execution_count": null,
      "metadata": {
        "id": "J70qrtiWaUvW",
        "outputId": "94aa0baa-8be8-4d09-d47d-7be63c7244cd",
        "colab": {
          "base_uri": "https://localhost:8080/"
        }
      },
      "outputs": [
        {
          "output_type": "stream",
          "name": "stdout",
          "text": [
            "Hello World!\n"
          ]
        }
      ],
      "source": [
        "# Print out Hello World!\n",
        "print('Hello World!')"
      ]
    },
    {
      "cell_type": "code",
      "execution_count": null,
      "metadata": {
        "id": "QS4TuxAOaUvX",
        "outputId": "72a35807-3514-4ae7-8b5b-a5234348cafa",
        "colab": {
          "base_uri": "https://localhost:8080/"
        }
      },
      "outputs": [
        {
          "output_type": "execute_result",
          "data": {
            "text/plain": [
              "2"
            ]
          },
          "metadata": {},
          "execution_count": 3
        }
      ],
      "source": [
        "# Simple arithmetics.\n",
        "1+1"
      ]
    },
    {
      "cell_type": "code",
      "execution_count": null,
      "metadata": {
        "id": "TXlqV9wIaUvX",
        "outputId": "ad063ca2-66db-458e-8bb6-d73c2dc3fbba",
        "colab": {
          "base_uri": "https://localhost:8080/"
        }
      },
      "outputs": [
        {
          "output_type": "execute_result",
          "data": {
            "text/plain": [
              "1.3333333333333333"
            ]
          },
          "metadata": {},
          "execution_count": 4
        }
      ],
      "source": [
        "4/3"
      ]
    },
    {
      "cell_type": "code",
      "execution_count": null,
      "metadata": {
        "id": "PcLhjFlpaUvX",
        "outputId": "97358802-f857-4729-a92c-01b724fc07ee",
        "colab": {
          "base_uri": "https://localhost:8080/"
        }
      },
      "outputs": [
        {
          "output_type": "execute_result",
          "data": {
            "text/plain": [
              "1"
            ]
          },
          "metadata": {},
          "execution_count": 5
        }
      ],
      "source": [
        "# Floor division.\n",
        "4//3"
      ]
    },
    {
      "cell_type": "code",
      "execution_count": null,
      "metadata": {
        "id": "g41sPXBKaUvX",
        "outputId": "feb8696a-928a-4019-a723-1340a17c3763",
        "colab": {
          "base_uri": "https://localhost:8080/"
        }
      },
      "outputs": [
        {
          "output_type": "stream",
          "name": "stdout",
          "text": [
            "<class 'int'>\n",
            "<class 'int'>\n"
          ]
        }
      ],
      "source": [
        "# Data types.\n",
        "print(type(2**30))\n",
        "print(type(2**100))"
      ]
    },
    {
      "cell_type": "code",
      "execution_count": null,
      "metadata": {
        "id": "UIVAa0fDaUvX",
        "outputId": "7520ef97-2b5e-4a97-b803-9eae1c17ecc0",
        "colab": {
          "base_uri": "https://localhost:8080/"
        }
      },
      "outputs": [
        {
          "output_type": "stream",
          "name": "stdout",
          "text": [
            "15\n"
          ]
        }
      ],
      "source": [
        "# Variable.\n",
        "x = 3\n",
        "print(x * 5)"
      ]
    },
    {
      "cell_type": "code",
      "execution_count": null,
      "metadata": {
        "id": "Xit234RQaUvX",
        "outputId": "9faed7fb-60b5-4a9c-edf5-36628d7a1ba8",
        "colab": {
          "base_uri": "https://localhost:8080/"
        }
      },
      "outputs": [
        {
          "output_type": "stream",
          "name": "stdout",
          "text": [
            "1\n",
            "2\n",
            "3\n",
            "4\n",
            "5\n"
          ]
        }
      ],
      "source": [
        "# Iteration.\n",
        "for x in [1,2,3,4,5]:\n",
        "    print(x)"
      ]
    },
    {
      "cell_type": "code",
      "execution_count": null,
      "metadata": {
        "id": "kvWtFEcIaUvY",
        "outputId": "a02dab6d-c70e-4fad-ce52-0cc0f953eea9",
        "colab": {
          "base_uri": "https://localhost:8080/"
        }
      },
      "outputs": [
        {
          "output_type": "stream",
          "name": "stdout",
          "text": [
            "x is smaller than 10.\n"
          ]
        }
      ],
      "source": [
        "# Conditional structure.\n",
        "x = 7\n",
        "if x < 10:\n",
        "    print('x is smaller than 10.')\n",
        "else:\n",
        "    print('x is larger than 10.')"
      ]
    }
  ],
  "metadata": {
    "kernelspec": {
      "display_name": "Python 3",
      "language": "python",
      "name": "python3"
    },
    "language_info": {
      "codemirror_mode": {
        "name": "ipython",
        "version": 3
      },
      "file_extension": ".py",
      "mimetype": "text/x-python",
      "name": "python",
      "nbconvert_exporter": "python",
      "pygments_lexer": "ipython3",
      "version": "3.7.3"
    },
    "colab": {
      "provenance": [],
      "include_colab_link": true
    }
  },
  "nbformat": 4,
  "nbformat_minor": 0
}