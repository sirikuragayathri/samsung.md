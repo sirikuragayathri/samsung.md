{
  "cells": [
    {
      "cell_type": "markdown",
      "metadata": {
        "id": "view-in-github",
        "colab_type": "text"
      },
      "source": [
        "<a href=\"https://colab.research.google.com/github/sirikuragayathri/samsung.md/blob/main/DecisionTree_model_and_optimize_hyper_parameters_using_Grid_Search_CV.ipynb\" target=\"_parent\"><img src=\"https://colab.research.google.com/assets/colab-badge.svg\" alt=\"Open In Colab\"/></a>"
      ]
    },
    {
      "cell_type": "markdown",
      "metadata": {
        "id": "o4RUMGGbqFOz"
      },
      "source": [
        "# How to classify data using DecisionTree model and optimize hyper-parameters using Grid Search CV."
      ]
    },
    {
      "cell_type": "code",
      "source": [
        "import warnings\n",
        "warnings.filterwarnings(\"ignore\")\n"
      ],
      "metadata": {
        "id": "M2EAQaATqYGs"
      },
      "execution_count": 1,
      "outputs": []
    },
    {
      "cell_type": "code",
      "source": [
        "# load libraries\n",
        "from sklearn import decomposition, datasets\n",
        "from sklearn import tree\n",
        "from sklearn.pipeline import Pipeline\n",
        "from sklearn.model_selection import GridSearchCV, cross_val_score\n",
        "from sklearn.preprocessing import StandardScaler"
      ],
      "metadata": {
        "id": "NyZnEgTTroex"
      },
      "execution_count": null,
      "outputs": []
    },
    {
      "cell_type": "code",
      "source": [
        "# Load the iris flower data\n",
        "dataset = datasets.load_iris()"
      ],
      "metadata": {
        "id": "DR3Qcw7ureQW"
      },
      "execution_count": null,
      "outputs": []
    },
    {
      "cell_type": "code",
      "source": [
        "X = dataset.data\n",
        "\n",
        "y = dataset.target"
      ],
      "metadata": {
        "id": "Dk_NaEmwrkYw"
      },
      "execution_count": null,
      "outputs": []
    },
    {
      "cell_type": "code",
      "source": [
        "print(X)"
      ],
      "metadata": {
        "id": "WPOcu8fvKHZZ"
      },
      "execution_count": null,
      "outputs": []
    },
    {
      "cell_type": "code",
      "source": [
        "print(y)"
      ],
      "metadata": {
        "id": "Y1HEnyApKJkZ"
      },
      "execution_count": null,
      "outputs": []
    },
    {
      "cell_type": "code",
      "source": [
        "# Create an scaler object\n",
        "sc = StandardScaler()"
      ],
      "metadata": {
        "id": "h2D44iJQrbVQ"
      },
      "execution_count": null,
      "outputs": []
    },
    {
      "cell_type": "code",
      "source": [
        "# Create a pca object\n",
        "pca = decomposition.PCA()"
      ],
      "metadata": {
        "id": "ZYO37Yu7rY-X"
      },
      "execution_count": null,
      "outputs": []
    },
    {
      "cell_type": "code",
      "source": [
        "# Create a decisiontree regression object with an L2 penalty\n",
        "decisiontree = tree.DecisionTreeClassifier()"
      ],
      "metadata": {
        "id": "QrDe-1RZrTM-"
      },
      "execution_count": null,
      "outputs": []
    },
    {
      "cell_type": "code",
      "source": [
        "# Create a pipeline of three steps. First, standardize the data.\n",
        "# Second, tranform the data with PCA.\n",
        "# Third, train a Decision Tree Classifier on the data.\n",
        "pipe = Pipeline(steps=[('sc', sc),\n",
        "                       ('pca', pca),\n",
        "                       ('decisiontree', decisiontree)])"
      ],
      "metadata": {
        "id": "UTV53CsHrLDE"
      },
      "execution_count": null,
      "outputs": []
    },
    {
      "cell_type": "code",
      "source": [
        "# Create Parameter Space\n",
        "# Create a list of a sequence of integers from 1 to 30 (the number of features in X + 1)\n",
        "n_components = list(range(1,X.shape[1]+1,1))"
      ],
      "metadata": {
        "id": "21nYjDmfrGQM"
      },
      "execution_count": null,
      "outputs": []
    },
    {
      "cell_type": "code",
      "source": [
        "# Create lists of parameter for Decision Tree Classifier\n",
        "criterion = ['gini', 'entropy']\n",
        "\n",
        "max_depth = [4,6,8,12]"
      ],
      "metadata": {
        "id": "y4QGZ5iJrAF-"
      },
      "execution_count": null,
      "outputs": []
    },
    {
      "cell_type": "code",
      "source": [
        "# Create a dictionary of all the parameter options\n",
        "# Note has you can access the parameters of steps of a pipeline by using '__’\n",
        "parameters = dict(pca__n_components=n_components,\n",
        "                  decisiontree__criterion=criterion,\n",
        "                  decisiontree__max_depth=max_depth)"
      ],
      "metadata": {
        "id": "jRU3lTJ6q4MS"
      },
      "execution_count": null,
      "outputs": []
    },
    {
      "cell_type": "code",
      "source": [
        "# Conduct Parameter Optmization With Pipeline\n",
        "# Create a grid search object\n",
        "clf = GridSearchCV(pipe, parameters)"
      ],
      "metadata": {
        "id": "IEjrdsg1q03h"
      },
      "execution_count": null,
      "outputs": []
    },
    {
      "cell_type": "code",
      "source": [
        "# Fit the grid search\n",
        "clf.fit(X, y)"
      ],
      "metadata": {
        "id": "Sn9RCINMqxOx"
      },
      "execution_count": null,
      "outputs": []
    },
    {
      "cell_type": "code",
      "source": [
        "# View The Best Parameters\n",
        "print('Best Criterion:', clf.best_estimator_.get_params()['decisiontree__criterion'])"
      ],
      "metadata": {
        "id": "uAA7U3fqqk9u"
      },
      "execution_count": null,
      "outputs": []
    },
    {
      "cell_type": "code",
      "source": [
        "print('Best max_depth:', clf.best_estimator_.get_params()['decisiontree__max_depth'])"
      ],
      "metadata": {
        "id": "UTjo5bJDqngh"
      },
      "execution_count": null,
      "outputs": []
    },
    {
      "cell_type": "code",
      "source": [
        "print('Best Number Of Components:', clf.best_estimator_.get_params()['pca__n_components'])"
      ],
      "metadata": {
        "id": "l1HesJtKqpFl"
      },
      "execution_count": null,
      "outputs": []
    },
    {
      "cell_type": "code",
      "source": [
        "print(clf.best_estimator_.get_params()['decisiontree'])"
      ],
      "metadata": {
        "id": "lYn0MGtmqqRN"
      },
      "execution_count": null,
      "outputs": []
    },
    {
      "cell_type": "code",
      "source": [
        "# Use Cross Validation To Evaluate Model\n",
        "CV_Result = cross_val_score(clf, X, y, cv=4, n_jobs=-1)"
      ],
      "metadata": {
        "id": "M99OEvQ9qZhd"
      },
      "execution_count": null,
      "outputs": []
    },
    {
      "cell_type": "code",
      "source": [
        "print(CV_Result)"
      ],
      "metadata": {
        "id": "dgHago8OqbCl"
      },
      "execution_count": null,
      "outputs": []
    },
    {
      "cell_type": "code",
      "source": [
        "print(CV_Result.mean())"
      ],
      "metadata": {
        "id": "4RAUAs0cqcAm"
      },
      "execution_count": null,
      "outputs": []
    },
    {
      "cell_type": "code",
      "source": [
        "print(CV_Result.std())"
      ],
      "metadata": {
        "id": "45Xzu7TJqdI0"
      },
      "execution_count": null,
      "outputs": []
    }
  ],
  "metadata": {
    "kernelspec": {
      "display_name": "Python 3",
      "language": "python",
      "name": "python3"
    },
    "language_info": {
      "codemirror_mode": {
        "name": "ipython",
        "version": 3
      },
      "file_extension": ".py",
      "mimetype": "text/x-python",
      "name": "python",
      "nbconvert_exporter": "python",
      "pygments_lexer": "ipython3",
      "version": "3.6.8"
    },
    "colab": {
      "provenance": [],
      "include_colab_link": true
    }
  },
  "nbformat": 4,
  "nbformat_minor": 0
}