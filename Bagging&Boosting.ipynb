{
  "nbformat": 4,
  "nbformat_minor": 0,
  "metadata": {
    "colab": {
      "provenance": [],
      "authorship_tag": "ABX9TyP1tyYsdpbttfhzdgJtvdPP",
      "include_colab_link": true
    },
    "kernelspec": {
      "name": "python3",
      "display_name": "Python 3"
    },
    "language_info": {
      "name": "python"
    }
  },
  "cells": [
    {
      "cell_type": "markdown",
      "metadata": {
        "id": "view-in-github",
        "colab_type": "text"
      },
      "source": [
        "<a href=\"https://colab.research.google.com/github/sirikuragayathri/samsung.md/blob/main/Bagging%26Boosting.ipynb\" target=\"_parent\"><img src=\"https://colab.research.google.com/assets/colab-badge.svg\" alt=\"Open In Colab\"/></a>"
      ]
    },
    {
      "cell_type": "code",
      "source": [
        "from google.colab import drive\n",
        "drive.mount('/content/drive')"
      ],
      "metadata": {
        "colab": {
          "base_uri": "https://localhost:8080/"
        },
        "id": "ZswXM_-BwXkD",
        "outputId": "f20071f0-440e-418c-94a5-0dda58fa6c12"
      },
      "execution_count": 1,
      "outputs": [
        {
          "output_type": "stream",
          "name": "stdout",
          "text": [
            "Mounted at /content/drive\n"
          ]
        }
      ]
    },
    {
      "cell_type": "code",
      "source": [
        "import time\n",
        "import numpy as np\n",
        "from sklearn.datasets import load_breast_cancer\n",
        "from sklearn.model_selection import train_test_split\n",
        "from sklearn.tree import DecisionTreeClassifier\n",
        "from sklearn.ensemble import BaggingClassifier, AdaBoostClassifier, GradientBoostingClassifier\n",
        "from sklearn.metrics import accuracy_score, classification_report, roc_auc_score\n",
        "\n",
        "# Load the breast cancer dataset\n",
        "cancer = load_breast_cancer()\n",
        "X = cancer.data\n",
        "y = cancer.target\n",
        "\n",
        "# Split the data into training and testing sets\n",
        "X_train, X_test, y_train, y_test = train_test_split(X, y, test_size=0.3, random_state=42, stratify=y)"
      ],
      "metadata": {
        "id": "47KYPQqYwfsA"
      },
      "execution_count": 2,
      "outputs": []
    },
    {
      "cell_type": "code",
      "source": [
        "# Initialize and train a Random Forest Classifier\n",
        "start_time_rf = time.time()\n",
        "\n",
        "rf_model = BaggingClassifier(estimator=DecisionTreeClassifier(),\n",
        "                             n_estimators=100,\n",
        "                             random_state=42)\n",
        "\n",
        "rf_model.fit(X_train, y_train)\n",
        "\n",
        "end_time_rf = time.time()\n",
        "\n",
        "# Make predictions and evaluate\n",
        "y_pred_rf = rf_model.predict(X_test)\n",
        "\n",
        "accuracy_rf = accuracy_score(y_test, y_pred_rf)\n",
        "\n",
        "roc_auc_rf = roc_auc_score(y_test, y_pred_rf)\n",
        "\n",
        "training_time_rf = end_time_rf - start_time_rf\n",
        "\n",
        "print(\"=== Bagging (Random Forest) ===\")\n",
        "print(f\"Accuracy: {accuracy_rf:.4f}\")\n",
        "\n",
        "print(f\"ROC AUC Score: {roc_auc_rf:.4f}\")\n",
        "\n",
        "print(f\"Training Time: {training_time_rf:.4f} seconds\")\n",
        "\n",
        "print(\"\\nClassification Report:\")\n",
        "print(classification_report(y_test, y_pred_rf))"
      ],
      "metadata": {
        "colab": {
          "base_uri": "https://localhost:8080/"
        },
        "id": "ecElcXpwwi8-",
        "outputId": "1f50e6ab-2379-4812-8c78-5f490202f1b2"
      },
      "execution_count": 3,
      "outputs": [
        {
          "output_type": "stream",
          "name": "stdout",
          "text": [
            "=== Bagging (Random Forest) ===\n",
            "Accuracy: 0.9474\n",
            "ROC AUC Score: 0.9391\n",
            "Training Time: 1.6637 seconds\n",
            "\n",
            "Classification Report:\n",
            "              precision    recall  f1-score   support\n",
            "\n",
            "           0       0.95      0.91      0.93        64\n",
            "           1       0.95      0.97      0.96       107\n",
            "\n",
            "    accuracy                           0.95       171\n",
            "   macro avg       0.95      0.94      0.94       171\n",
            "weighted avg       0.95      0.95      0.95       171\n",
            "\n"
          ]
        }
      ]
    },
    {
      "cell_type": "code",
      "source": [
        "# Initialize and train an AdaBoost Classifier\n",
        "start_time_ada = time.time()\n",
        "ada_model = AdaBoostClassifier(estimator=DecisionTreeClassifier(max_depth=1),\n",
        "                               n_estimators=100,\n",
        "                               random_state=42,\n",
        "                               learning_rate=0.5)\n",
        "\n",
        "ada_model.fit(X_train, y_train)\n",
        "end_time_ada = time.time()\n",
        "\n",
        "# Make predictions and evaluate\n",
        "y_pred_ada = ada_model.predict(X_test)\n",
        "accuracy_ada = accuracy_score(y_test, y_pred_ada)\n",
        "roc_auc_ada = roc_auc_score(y_test, y_pred_ada)\n",
        "training_time_ada = end_time_ada - start_time_ada\n",
        "\n",
        "print(\"\\n=== Boosting (AdaBoost) ===\")\n",
        "print(f\"Accuracy: {accuracy_ada:.4f}\")\n",
        "\n",
        "print(f\"ROC AUC Score: {roc_auc_ada:.4f}\")\n",
        "\n",
        "print(f\"Training Time: {training_time_ada:.4f} seconds\")\n",
        "\n",
        "print(\"\\nClassification Report:\")\n",
        "print(classification_report(y_test, y_pred_ada))"
      ],
      "metadata": {
        "colab": {
          "base_uri": "https://localhost:8080/"
        },
        "id": "0soSUXycwmEx",
        "outputId": "b01ce0df-4fb1-4321-ca76-78888ecb7d94"
      },
      "execution_count": 4,
      "outputs": [
        {
          "output_type": "stream",
          "name": "stdout",
          "text": [
            "\n",
            "=== Boosting (AdaBoost) ===\n",
            "Accuracy: 0.9532\n",
            "ROC AUC Score: 0.9438\n",
            "Training Time: 0.9103 seconds\n",
            "\n",
            "Classification Report:\n",
            "              precision    recall  f1-score   support\n",
            "\n",
            "           0       0.97      0.91      0.94        64\n",
            "           1       0.95      0.98      0.96       107\n",
            "\n",
            "    accuracy                           0.95       171\n",
            "   macro avg       0.96      0.94      0.95       171\n",
            "weighted avg       0.95      0.95      0.95       171\n",
            "\n"
          ]
        }
      ]
    },
    {
      "cell_type": "code",
      "source": [
        "# Initialize and train a Gradient Boosting Classifier\n",
        "start_time_gb = time.time()\n",
        "gb_model = GradientBoostingClassifier(n_estimators=100,\n",
        "                                      learning_rate=0.1,\n",
        "                                      max_depth=3,\n",
        "                                      random_state=42)\n",
        "gb_model.fit(X_train, y_train)\n",
        "end_time_gb = time.time()\n",
        "\n",
        "# Make predictions and evaluate\n",
        "y_pred_gb = gb_model.predict(X_test)\n",
        "accuracy_gb = accuracy_score(y_test, y_pred_gb)\n",
        "roc_auc_gb = roc_auc_score(y_test, y_pred_gb)\n",
        "training_time_gb = end_time_gb - start_time_gb\n",
        "\n",
        "print(\"\\n=== Boosting (Gradient Boosting) ===\")\n",
        "print(f\"Accuracy: {accuracy_gb:.4f}\")\n",
        "\n",
        "print(f\"ROC AUC Score: {roc_auc_gb:.4f}\")\n",
        "\n",
        "print(f\"Training Time: {training_time_gb:.4f} seconds\")\n",
        "\n",
        "print(\"\\nClassification Report:\")\n",
        "print(classification_report(y_test, y_pred_gb))"
      ],
      "metadata": {
        "colab": {
          "base_uri": "https://localhost:8080/"
        },
        "id": "oOE3viRrwp5X",
        "outputId": "08c1ee43-c5af-41f8-eed5-220f83969d39"
      },
      "execution_count": 5,
      "outputs": [
        {
          "output_type": "stream",
          "name": "stdout",
          "text": [
            "\n",
            "=== Boosting (Gradient Boosting) ===\n",
            "Accuracy: 0.9474\n",
            "ROC AUC Score: 0.9391\n",
            "Training Time: 2.8064 seconds\n",
            "\n",
            "Classification Report:\n",
            "              precision    recall  f1-score   support\n",
            "\n",
            "           0       0.95      0.91      0.93        64\n",
            "           1       0.95      0.97      0.96       107\n",
            "\n",
            "    accuracy                           0.95       171\n",
            "   macro avg       0.95      0.94      0.94       171\n",
            "weighted avg       0.95      0.95      0.95       171\n",
            "\n"
          ]
        }
      ]
    },
    {
      "cell_type": "code",
      "source": [
        "import numpy as np\n",
        "import time\n",
        "from sklearn.datasets import load_breast_cancer\n",
        "from sklearn.model_selection import train_test_split\n",
        "from sklearn.preprocessing import StandardScaler\n",
        "from sklearn.neighbors import KNeighborsClassifier\n",
        "from sklearn.svm import SVC\n",
        "from sklearn.ensemble import GradientBoostingClassifier, StackingClassifier\n",
        "from sklearn.linear_model import LogisticRegression\n",
        "from sklearn.metrics import accuracy_score, classification_report, roc_auc_score\n",
        "\n",
        "# Load the breast cancer dataset\n",
        "cancer = load_breast_cancer()\n",
        "X = cancer.data\n",
        "y = cancer.target\n",
        "\n",
        "# Split data into training and testing sets\n",
        "X_train, X_test, y_train, y_test = train_test_split(X, y, test_size=0.3, random_state=42, stratify=y)\n",
        "\n",
        "# Feature Scaling\n",
        "scaler = StandardScaler()\n",
        "X_train_scaled = scaler.fit_transform(X_train)\n",
        "X_test_scaled = scaler.transform(X_test)"
      ],
      "metadata": {
        "id": "mdA-GVqjwtj6"
      },
      "execution_count": 6,
      "outputs": []
    },
    {
      "cell_type": "code",
      "source": [
        "# Define the base models (Level-0)\n",
        "estimators = [\n",
        "    ('knn', KNeighborsClassifier(n_neighbors=5)),\n",
        "    ('svm', SVC(kernel='rbf', C=1.0, probability=True, random_state=42)), # probability=True is needed for predict_proba\n",
        "    ('gb', GradientBoostingClassifier(n_estimators=100, learning_rate=0.1, random_state=42))\n",
        "]\n",
        "\n",
        "# Define the final estimator (Meta-model)\n",
        "final_estimator = LogisticRegression()\n",
        "\n",
        "# Initialize the Stacking Classifier\n",
        "stacking_model = StackingClassifier(\n",
        "    estimators=estimators,\n",
        "    final_estimator=final_estimator,\n",
        "    cv=5, # Use cross-validation to prevent data leakage\n",
        "    passthrough=False # Set to True to include original features as well\n",
        ")"
      ],
      "metadata": {
        "id": "HyMORkaOwxvY"
      },
      "execution_count": 7,
      "outputs": []
    },
    {
      "cell_type": "code",
      "source": [
        "# Train the stacking model\n",
        "start_time_stack = time.time()\n",
        "stacking_model.fit(X_train_scaled, y_train)\n",
        "end_time_stack = time.time()\n",
        "\n",
        "# Make predictions and evaluate\n",
        "y_pred_stack = stacking_model.predict(X_test_scaled)\n",
        "accuracy_stack = accuracy_score(y_test, y_pred_stack)\n",
        "roc_auc_stack = roc_auc_score(y_test, y_pred_stack)\n",
        "training_time_stack = end_time_stack - start_time_stack\n",
        "\n",
        "print(\"=== Stacking Classifier ===\")\n",
        "print(f\"Accuracy: {accuracy_stack:.4f}\")\n",
        "print(f\"ROC AUC Score: {roc_auc_stack:.4f}\")\n",
        "print(f\"Training Time: {training_time_stack:.4f} seconds\")\n",
        "print(\"\\nClassification Report:\")\n",
        "print(classification_report(y_test, y_pred_stack))"
      ],
      "metadata": {
        "colab": {
          "base_uri": "https://localhost:8080/"
        },
        "id": "befBTRvHw0YR",
        "outputId": "49f4f6c8-1b93-4a2f-bd92-b7e09cf454df"
      },
      "execution_count": 8,
      "outputs": [
        {
          "output_type": "stream",
          "name": "stdout",
          "text": [
            "=== Stacking Classifier ===\n",
            "Accuracy: 0.9649\n",
            "ROC AUC Score: 0.9563\n",
            "Training Time: 6.2760 seconds\n",
            "\n",
            "Classification Report:\n",
            "              precision    recall  f1-score   support\n",
            "\n",
            "           0       0.98      0.92      0.95        64\n",
            "           1       0.95      0.99      0.97       107\n",
            "\n",
            "    accuracy                           0.96       171\n",
            "   macro avg       0.97      0.96      0.96       171\n",
            "weighted avg       0.97      0.96      0.96       171\n",
            "\n"
          ]
        }
      ]
    },
    {
      "cell_type": "code",
      "source": [],
      "metadata": {
        "id": "D8U14ZL1xXaA"
      },
      "execution_count": null,
      "outputs": []
    }
  ]
}